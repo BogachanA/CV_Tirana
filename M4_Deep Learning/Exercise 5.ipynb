{
  "cells": [
    {
      "cell_type": "markdown",
      "metadata": {
        "id": "view-in-github",
        "colab_type": "text"
      },
      "source": [
        "<a href=\"https://colab.research.google.com/github/xtianu/CV_Tirana/blob/main/M4_Deep%20Learning/Exercise%205.ipynb\" target=\"_parent\"><img src=\"https://colab.research.google.com/assets/colab-badge.svg\" alt=\"Open In Colab\"/></a>"
      ]
    },
    {
      "cell_type": "markdown",
      "metadata": {
        "id": "5ZUuhuOnoIfl"
      },
      "source": [
        "# Module 4: DEEP LEARNING"
      ]
    },
    {
      "cell_type": "markdown",
      "source": [
        "Christian Mata, PhD"
      ],
      "metadata": {
        "id": "NMFL7ZYWWK9L"
      }
    },
    {
      "cell_type": "markdown",
      "source": [
        "# Exercise 5\n",
        "\n",
        "**Before starting:**\n",
        "\n",
        "- Create a GitHub repository to upload the solution of this exercise.\n",
        "- Share this GitHub link to your professor.\n",
        "\n",
        "**INSTRUCTIONS**\n",
        "\n",
        "- Find on internet an example similar to our examples presented in class about: Classification and Segmentation. You can use any repository and any opensource database (Keras, Kaggle... etc).\n"
      ],
      "metadata": {
        "id": "9HoIhrFu2MoR"
      }
    }
  ],
  "metadata": {
    "kernelspec": {
      "display_name": "Python 3",
      "language": "python",
      "name": "python3"
    },
    "language_info": {
      "codemirror_mode": {
        "name": "ipython",
        "version": 3
      },
      "file_extension": ".py",
      "mimetype": "text/x-python",
      "name": "python",
      "nbconvert_exporter": "python",
      "pygments_lexer": "ipython3",
      "version": "3.7.3"
    },
    "colab": {
      "provenance": [],
      "toc_visible": true,
      "include_colab_link": true
    }
  },
  "nbformat": 4,
  "nbformat_minor": 0
}